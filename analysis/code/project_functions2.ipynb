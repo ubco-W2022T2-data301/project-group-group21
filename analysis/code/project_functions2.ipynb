{
 "cells": [
  {
   "cell_type": "code",
   "execution_count": null,
   "id": "afc0ceb7-fd32-4fc5-8b22-a37eaa18e91e",
   "metadata": {},
   "outputs": [],
   "source": [
    "def load_and_process(path = \"../data/raw/Mexico_listings.csv\"):\n",
    "\n",
    "    # Method Chain 1 (Load data and drop uneccessary columns)\n",
    "\n",
    "    df1 = (pd.read_csv(\"../data/raw/Mexico_listings.csv\").drop(columns = [\"id\", \"name\", \"host_id\", \"host_name\", \"neighbourhood_group\",\"number_of_reviews\",\"last_review\", \"reviews_per_month\",\"calculated_host_listings_count\",\"number_of_reviews_ltm\",\"license\",\"availability_365\"]))\n",
    "          \n",
    "\n",
    "    # Method Chain 2 (drop outlier prices, minimum nights over 15 days, keep only prices over $0, sort by price\n",
    "\n",
    "    df2 = (df1.drop(df[df['price']>10000].index) .loc[lambda x: x['minimum_nights']<15].loc[lambda x: x['price']>0]\n",
    "    .assign(price_cad=lambda x: x['price']*0.06472)).sort_values(\"price\", ascending=True).reset_index(drop=True)\n",
    "\n",
    "    # Make sure to return the latest dataframe\n",
    "\n",
    "    return df2"
   ]
  },
  {
   "cell_type": "code",
   "execution_count": null,
   "id": "283fd388-5f47-4343-810b-7ab509588e36",
   "metadata": {},
   "outputs": [],
   "source": []
  }
 ],
 "metadata": {
  "kernelspec": {
   "display_name": "Python 3 (ipykernel)",
   "language": "python",
   "name": "python3"
  }
 },
 "nbformat": 4,
 "nbformat_minor": 5
}
